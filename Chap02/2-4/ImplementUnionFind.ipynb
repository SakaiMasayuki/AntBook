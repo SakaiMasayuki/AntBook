{
 "cells": [
  {
   "cell_type": "markdown",
   "metadata": {},
   "source": [
    "# Union-Find treeの実装  \n",
    "\n",
    "## About  \n",
    "グループ分けを管理するデータ構造．主な特徴．\n",
    "- 2つのunion-find treeを併合することが**できる**\n",
    "- 1つのunion-find treeを分割することは**できない**\n",
    "\n",
    "また，次のようなことが行える．  \n",
    "- 要素$a$と要素$b$が同じグループに属するかを調べる\n",
    "- 要素$a$と要素$b$のグループを併合する　　\n",
    "\n",
    "---\n",
    "## How it works  \n",
    "Union-find treeはその名の通りtree構造の特別な場合．ただし，二分木ではなく，互いに素である．　　\n",
    "各要素は1つのノードで，1つのグループは1つの木である．ノードに関する親子関係や木の形よりも，木構造になっていることの方が本質的．\n",
    "\n",
    "### 初期化  \n",
    "$n$個の要素に対して，$n$個のノードを用意する．最初は辺はない．\n",
    "\n",
    "### 併合  \n",
    "片方のグループの木の根から，もう片方のグループの木の根に辺を貼ることで，2つの木が1つのとなる．すなわち1つのグループになる． \n",
    "\n",
    "### 判定  \n",
    "同じグループに属しているかを判定するには，木を上むきに辿る．判定したいノードの根が同じであれば同じグループに属していることがわかる．  \n",
    "- 要素が属する木の根を比較することで判定する  \n",
    "\n",
    "### 実装の注意  \n",
    "偏りが発生しないように，  \n",
    "- 各木について，木の高さ(rank)を記憶しておく\n",
    "- 併合の際に2つの木のrankが異なれば，rankの小さいものから大きい物へ辺を張る．\n",
    "\n",
    "### 辺の縮約  \n",
    "各ノードについて，一度根を辿ったら辺を直接根に向かって貼り直すことで，のちの検索性を向上させることができる．  \n",
    "\n",
    "### 計算量  \n",
    "ならし計算量で$O(\\alpha(n))$，ここで$\\alpha(n)$はアッカーマン逆関数で，$O(\\log(n)$よりも高速．\n"
   ]
  },
  {
   "cell_type": "code",
   "execution_count": 41,
   "metadata": {},
   "outputs": [],
   "source": [
    "class UnionFind():\n",
    "    def __init__(self, size):\n",
    "        \"\"\"\n",
    "        - make n elements as parent node\n",
    "        - first, every parent node's rank are 0\n",
    "        \"\"\"\n",
    "        self.parents = [i for i in range(size+1)]\n",
    "        self.rank = [0 for _ in range(size+1)]\n",
    "    \n",
    "    def find(self, x):\n",
    "        if self.parents[x] == x:\n",
    "            return x\n",
    "        else:\n",
    "            self.parents[x] = self.find(self.parents[x])\n",
    "            return self.parents[x]\n",
    "\n",
    "    \n",
    "    def unite(self, x, y):\n",
    "        x = self.find(x)\n",
    "        y = self.find(y)\n",
    "        if x == y:\n",
    "            return\n",
    "        else:\n",
    "            self.parents[y] = x\n",
    "            if self.rank[x] == self.rank[y]:\n",
    "                self.rank[x] += 1\n",
    "                \n",
    "    def is_same(self, x, y):\n",
    "        return self.find(x) == self.find(y)"
   ]
  },
  {
   "cell_type": "markdown",
   "metadata": {},
   "source": [
    "---\n",
    "## テスト  \n",
    "次のようなunion-find tree構造を考える  \n",
    "- 1\n",
    "    - 2\n",
    "    - 5\n",
    "- 3\n",
    "- 6\n",
    "    - 4\n",
    "        - 7"
   ]
  },
  {
   "cell_type": "code",
   "execution_count": 54,
   "metadata": {},
   "outputs": [
    {
     "data": {
      "text/plain": [
       "[0, 1, 2, 3, 4, 5, 6, 7]"
      ]
     },
     "execution_count": 54,
     "metadata": {},
     "output_type": "execute_result"
    }
   ],
   "source": [
    "uf = UnionFind(7)\n",
    "uf.parents"
   ]
  },
  {
   "cell_type": "code",
   "execution_count": 55,
   "metadata": {},
   "outputs": [
    {
     "data": {
      "text/plain": [
       "1"
      ]
     },
     "execution_count": 55,
     "metadata": {},
     "output_type": "execute_result"
    }
   ],
   "source": [
    "# 1の根\n",
    "uf.find(1)"
   ]
  },
  {
   "cell_type": "code",
   "execution_count": 56,
   "metadata": {},
   "outputs": [
    {
     "data": {
      "text/plain": [
       "1"
      ]
     },
     "execution_count": 56,
     "metadata": {},
     "output_type": "execute_result"
    }
   ],
   "source": [
    "# unite\n",
    "uf.unite(1,2)\n",
    "uf.find(2)"
   ]
  },
  {
   "cell_type": "code",
   "execution_count": 57,
   "metadata": {},
   "outputs": [],
   "source": [
    "uf.unite(1,5)\n",
    "uf.unite(4,7)\n",
    "uf.unite(6,4)"
   ]
  },
  {
   "cell_type": "code",
   "execution_count": 62,
   "metadata": {},
   "outputs": [
    {
     "name": "stdout",
     "output_type": "stream",
     "text": [
      "parent of 0  =  0\n",
      "parent of 1  =  1\n",
      "parent of 2  =  1\n",
      "parent of 3  =  3\n",
      "parent of 4  =  6\n",
      "parent of 5  =  1\n",
      "parent of 6  =  6\n",
      "parent of 7  =  6\n"
     ]
    }
   ],
   "source": [
    "for i in range(7+1):\n",
    "    print('parent of', i, ' = ', uf.find(i))"
   ]
  },
  {
   "cell_type": "code",
   "execution_count": 59,
   "metadata": {},
   "outputs": [
    {
     "data": {
      "text/plain": [
       "1"
      ]
     },
     "execution_count": 59,
     "metadata": {},
     "output_type": "execute_result"
    }
   ],
   "source": []
  },
  {
   "cell_type": "code",
   "execution_count": 60,
   "metadata": {},
   "outputs": [
    {
     "data": {
      "text/plain": [
       "1"
      ]
     },
     "execution_count": 60,
     "metadata": {},
     "output_type": "execute_result"
    }
   ],
   "source": []
  },
  {
   "cell_type": "code",
   "execution_count": null,
   "metadata": {},
   "outputs": [],
   "source": []
  }
 ],
 "metadata": {
  "kernelspec": {
   "display_name": "Python 3",
   "language": "python",
   "name": "python3"
  },
  "language_info": {
   "codemirror_mode": {
    "name": "ipython",
    "version": 3
   },
   "file_extension": ".py",
   "mimetype": "text/x-python",
   "name": "python",
   "nbconvert_exporter": "python",
   "pygments_lexer": "ipython3",
   "version": "3.7.0"
  }
 },
 "nbformat": 4,
 "nbformat_minor": 2
}
