{
 "cells": [
  {
   "cell_type": "markdown",
   "metadata": {},
   "source": [
    "# ヒープ  \n",
    "\n",
    "## 仕組み  \n",
    "二分木かつ親の数字は必ず子より小さい．  \n",
    "\n",
    "### 数値の追加  \n",
    "    - 最後尾（一番深く，空いている一番右の場所）に数値を追加する．\n",
    "    - 追加した後，親ノードと値を比べて親の方が大きければ入れ替える．\n",
    "    - 以下，親の数字が子より小さい，という構造を満たすまで入れ替えを行う．\n",
    "    \n",
    "### 最小値の削除  \n",
    "    - 一番最初の要素が最小値となっているのでそれを取り除く．\n",
    "    - 次に，一番最後尾の要素を一番最初に移動させる\n",
    "    - その後，親の数字が子より小さい，という構造を満たすまで入れ替えを行う．\n",
    "        - 親が二つの子どちらよりも大きい場合は，より小さい方と交換する．"
   ]
  },
  {
   "cell_type": "markdown",
   "metadata": {},
   "source": [
    "---\n",
    "## 実装  \n",
    "ここで，上から，かつ同じ深さであれば左から順番にノードに番号を振る．\n",
    "- 0\n",
    "    - 1\n",
    "        - 3\n",
    "        - 4\n",
    "    - 2\n",
    "        - 5\n",
    "        - 6\n",
    "\n",
    "１次元配列において，\n",
    "- 左の子の要素番号は，自分の番号$\\times 2 + 1$\n",
    "- 右の子の要素番号は，自分の番号$\\times 2 + 2$  \n",
    "\n",
    "である．"
   ]
  },
  {
   "cell_type": "code",
   "execution_count": 15,
   "metadata": {},
   "outputs": [],
   "source": [
    "class Heap:\n",
    "    def __init__(self, l):\n",
    "        self.l = l\n",
    "        \n",
    "        \n",
    "    def push(self, a):\n",
    "        # 要素の最後に追加\n",
    "        self.l.append(a)\n",
    "        # ノードを入れ替え\n",
    "        i = len(self.l)-1 # 追加した要素の番号\n",
    "\n",
    "        while i > 0:\n",
    "            p = int((i - 1)/2)\n",
    "            # 逆転しているものがなければ終了\n",
    "\n",
    "            if self.l[p] <= a:\n",
    "                break\n",
    "            \n",
    "            self.l[i] = self.l[p]\n",
    "            i = p\n",
    "            \n",
    "    def pop(self, p):\n",
    "        # 最小値\n",
    "        ret = self.l[0]\n",
    "        \n",
    "        # 根に持ってくる値\n",
    "        x = self.l[-1]\n",
    "        self.l[0] = self.l[-1]\n",
    "        self.l = self.l[:-1]\n",
    "\n",
    "        \n",
    "        # 根から下に下ろしていく\n",
    "        i = 0\n",
    "        while i*2+1 < len(self.l):\n",
    "            n1 = int(i * 2 + 1)\n",
    "            n2 = int(i * 2 + 2)\n",
    "            \n",
    "            if n2 < len(self.l) and self.l[n2] < self.l[n1]:\n",
    "                n1 = n2\n",
    "                \n",
    "            # 逆転していなければ終了\n",
    "            if self.l[n1] >= x:\n",
    "                break\n",
    "            \n",
    "            # 子を上にあげる\n",
    "            self.l[i] = self.l[n1]\n",
    "            \n",
    "            # イテレーションの更新\n",
    "            i = n1\n",
    "        \n",
    "        # 最小値を返す\n",
    "        return ret"
   ]
  },
  {
   "cell_type": "code",
   "execution_count": 24,
   "metadata": {},
   "outputs": [
    {
     "data": {
      "text/plain": [
       "[0, 1, 2, 3, 4, 5]"
      ]
     },
     "execution_count": 24,
     "metadata": {},
     "output_type": "execute_result"
    }
   ],
   "source": [
    "heap = Heap([0,1,2,3,4,5])\n",
    "heap.l"
   ]
  },
  {
   "cell_type": "code",
   "execution_count": 25,
   "metadata": {},
   "outputs": [
    {
     "data": {
      "text/plain": [
       "[0, 1, 2, 3, 4, 5, 2]"
      ]
     },
     "execution_count": 25,
     "metadata": {},
     "output_type": "execute_result"
    }
   ],
   "source": [
    "heap.push(1)\n",
    "heap.l"
   ]
  },
  {
   "cell_type": "code",
   "execution_count": 19,
   "metadata": {},
   "outputs": [
    {
     "data": {
      "text/plain": [
       "0"
      ]
     },
     "execution_count": 19,
     "metadata": {},
     "output_type": "execute_result"
    }
   ],
   "source": [
    "heap.pop(1)"
   ]
  },
  {
   "cell_type": "code",
   "execution_count": 20,
   "metadata": {},
   "outputs": [
    {
     "data": {
      "text/plain": [
       "[1, 3, 2, 3, 4]"
      ]
     },
     "execution_count": 20,
     "metadata": {},
     "output_type": "execute_result"
    }
   ],
   "source": [
    "heap.l"
   ]
  },
  {
   "cell_type": "code",
   "execution_count": null,
   "metadata": {},
   "outputs": [],
   "source": []
  }
 ],
 "metadata": {
  "kernelspec": {
   "display_name": "Python 3",
   "language": "python",
   "name": "python3"
  },
  "language_info": {
   "codemirror_mode": {
    "name": "ipython",
    "version": 3
   },
   "file_extension": ".py",
   "mimetype": "text/x-python",
   "name": "python",
   "nbconvert_exporter": "python",
   "pygments_lexer": "ipython3",
   "version": "3.7.0"
  }
 },
 "nbformat": 4,
 "nbformat_minor": 2
}
