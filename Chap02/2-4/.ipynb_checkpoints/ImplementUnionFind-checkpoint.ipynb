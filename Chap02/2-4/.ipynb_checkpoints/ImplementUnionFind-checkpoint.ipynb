{
 "cells": [
  {
   "cell_type": "markdown",
   "metadata": {},
   "source": [
    "# Union-Find treeの実装  \n",
    "\n",
    "## About  \n",
    "グループ分けを管理するデータ構造．主な特徴．\n",
    "- 2つのunion-find treeを併合することが**できる**\n",
    "- 1つのunion-find treeを分割することは**できない**\n",
    "\n",
    "また，次のようなことが行える．  \n",
    "- 要素$a$と要素$b$が同じグループに属するかを調べる\n",
    "- 要素$a$と要素$b$のグループを併合する　　\n",
    "\n",
    "---\n",
    "## How it works  \n",
    "Union-find treeはその名の通りtree構造の特別な場合．ただし，二分木ではなく，互いに素である．　　\n",
    "各要素は1つのノードで，1つのグループは1つの木である．ノードに関する親子関係や木の形よりも，木構造になっていることの方が本質的．\n",
    "\n",
    "### 初期化  \n",
    "$n$個の要素に対して，$n$個のノードを用意する．最初は辺はない．\n",
    "\n",
    "### 併合  \n",
    "片方のグループの木の根から，もう片方のグループの木の根に辺を貼ることで，2つの木が1つのとなる．すなわち1つのグループになる． \n",
    "\n",
    "### 判定  \n",
    "同じグループに属しているかを判定するには，木を上むきに辿る．判定したいノードの根が同じであれば同じグループに属していることがわかる．  \n",
    "- 要素が属する木の根を比較することで判定する  \n",
    "\n",
    "### 実装の注意  \n",
    "偏りが発生しないように，  \n",
    "- 各木について，木の高さ(rank)を記憶しておく\n",
    "- 併合の際に2つの木のrankが異なれば，rankの小さいものから大きい物へ辺を張る．\n",
    "\n",
    "### 辺の縮約  \n",
    "各ノードについて，一度根を辿ったら辺を直接根に向かって貼り直すことで，のちの検索性を向上させることができる．  \n",
    "\n",
    "### 計算量  \n",
    "ならし計算量で$O(\\alpha(n))$，ここで$\\alpha(n)$はアッカーマン逆関数で，$O(\\log(n)$よりも高速．\n"
   ]
  },
  {
   "cell_type": "code",
   "execution_count": 33,
   "metadata": {},
   "outputs": [],
   "source": [
    "class UnionFind():\n",
    "    def __init__(self, size):\n",
    "        \"\"\"\n",
    "        - make n elements as parent node\n",
    "        - first, every parent node's rank are 0\n",
    "        \"\"\"\n",
    "        self.parents = [i for i in range(size+1)]\n",
    "        self.rank = [0 for _ in range(size+1)]\n",
    "    \n",
    "    def find(self, x):\n",
    "        if self.parents[x] == x:\n",
    "            return x\n",
    "        else:\n",
    "            self.parents[x] = self.find(self.parents[x])\n",
    "            return self.parents[x]\n",
    "\n",
    "    \n",
    "    def unite(self, x, y):\n",
    "        x = self.find(x)\n",
    "        y = self.find(y)\n",
    "        if x == y:\n",
    "            return\n",
    "        else:\n",
    "            self.parents[y] = x\n",
    "            if self.rank[x] == self.rank[y]:\n",
    "                self.rank[x] += 1\n",
    "                \n",
    "    def is_same(self, x, y):\n",
    "        return self.find(x) == self.find(y)"
   ]
  },
  {
   "cell_type": "markdown",
   "metadata": {},
   "source": [
    "---\n",
    "## テスト  \n",
    "次のようなunion-find tree構造を考える  \n",
    "- 1\n",
    "    - 2\n",
    "    - 5\n",
    "- 3\n",
    "- 6\n",
    "    - 4\n",
    "        - 7"
   ]
  },
  {
   "cell_type": "code",
   "execution_count": 34,
   "metadata": {},
   "outputs": [
    {
     "data": {
      "text/plain": [
       "[0, 1, 2, 3, 4, 5, 6]"
      ]
     },
     "execution_count": 34,
     "metadata": {},
     "output_type": "execute_result"
    }
   ],
   "source": [
    "uf = UnionFind(7)\n",
    "uf.parents"
   ]
  },
  {
   "cell_type": "code",
   "execution_count": 36,
   "metadata": {},
   "outputs": [
    {
     "data": {
      "text/plain": [
       "1"
      ]
     },
     "execution_count": 36,
     "metadata": {},
     "output_type": "execute_result"
    }
   ],
   "source": [
    "# 1の根\n",
    "uf.find(1)"
   ]
  },
  {
   "cell_type": "code",
   "execution_count": 38,
   "metadata": {},
   "outputs": [
    {
     "data": {
      "text/plain": [
       "1"
      ]
     },
     "execution_count": 38,
     "metadata": {},
     "output_type": "execute_result"
    }
   ],
   "source": [
    "# unite\n",
    "uf.unite(1,2)\n",
    "uf.find(2)"
   ]
  },
  {
   "cell_type": "code",
   "execution_count": 39,
   "metadata": {},
   "outputs": [
    {
     "ename": "IndexError",
     "evalue": "list index out of range",
     "output_type": "error",
     "traceback": [
      "\u001b[0;31m---------------------------------------------------------------------------\u001b[0m",
      "\u001b[0;31mIndexError\u001b[0m                                Traceback (most recent call last)",
      "\u001b[0;32m<ipython-input-39-50b6102f1a94>\u001b[0m in \u001b[0;36m<module>\u001b[0;34m()\u001b[0m\n\u001b[1;32m      1\u001b[0m \u001b[0muf\u001b[0m\u001b[0;34m.\u001b[0m\u001b[0munite\u001b[0m\u001b[0;34m(\u001b[0m\u001b[0;36m1\u001b[0m\u001b[0;34m,\u001b[0m\u001b[0;36m5\u001b[0m\u001b[0;34m)\u001b[0m\u001b[0;34m\u001b[0m\u001b[0m\n\u001b[0;32m----> 2\u001b[0;31m \u001b[0muf\u001b[0m\u001b[0;34m.\u001b[0m\u001b[0munite\u001b[0m\u001b[0;34m(\u001b[0m\u001b[0;36m4\u001b[0m\u001b[0;34m,\u001b[0m\u001b[0;36m7\u001b[0m\u001b[0;34m)\u001b[0m\u001b[0;34m\u001b[0m\u001b[0m\n\u001b[0m\u001b[1;32m      3\u001b[0m \u001b[0muf\u001b[0m\u001b[0;34m.\u001b[0m\u001b[0munite\u001b[0m\u001b[0;34m(\u001b[0m\u001b[0;36m6\u001b[0m\u001b[0;34m,\u001b[0m\u001b[0;36m4\u001b[0m\u001b[0;34m)\u001b[0m\u001b[0;34m\u001b[0m\u001b[0m\n",
      "\u001b[0;32m<ipython-input-33-ad257aec21e8>\u001b[0m in \u001b[0;36munite\u001b[0;34m(self, x, y)\u001b[0m\n\u001b[1;32m     18\u001b[0m     \u001b[0;32mdef\u001b[0m \u001b[0munite\u001b[0m\u001b[0;34m(\u001b[0m\u001b[0mself\u001b[0m\u001b[0;34m,\u001b[0m \u001b[0mx\u001b[0m\u001b[0;34m,\u001b[0m \u001b[0my\u001b[0m\u001b[0;34m)\u001b[0m\u001b[0;34m:\u001b[0m\u001b[0;34m\u001b[0m\u001b[0m\n\u001b[1;32m     19\u001b[0m         \u001b[0mx\u001b[0m \u001b[0;34m=\u001b[0m \u001b[0mself\u001b[0m\u001b[0;34m.\u001b[0m\u001b[0mfind\u001b[0m\u001b[0;34m(\u001b[0m\u001b[0mx\u001b[0m\u001b[0;34m)\u001b[0m\u001b[0;34m\u001b[0m\u001b[0m\n\u001b[0;32m---> 20\u001b[0;31m         \u001b[0my\u001b[0m \u001b[0;34m=\u001b[0m \u001b[0mself\u001b[0m\u001b[0;34m.\u001b[0m\u001b[0mfind\u001b[0m\u001b[0;34m(\u001b[0m\u001b[0my\u001b[0m\u001b[0;34m)\u001b[0m\u001b[0;34m\u001b[0m\u001b[0m\n\u001b[0m\u001b[1;32m     21\u001b[0m         \u001b[0;32mif\u001b[0m \u001b[0mx\u001b[0m \u001b[0;34m==\u001b[0m \u001b[0my\u001b[0m\u001b[0;34m:\u001b[0m\u001b[0;34m\u001b[0m\u001b[0m\n\u001b[1;32m     22\u001b[0m             \u001b[0;32mreturn\u001b[0m\u001b[0;34m\u001b[0m\u001b[0m\n",
      "\u001b[0;32m<ipython-input-33-ad257aec21e8>\u001b[0m in \u001b[0;36mfind\u001b[0;34m(self, x)\u001b[0m\n\u001b[1;32m      9\u001b[0m \u001b[0;34m\u001b[0m\u001b[0m\n\u001b[1;32m     10\u001b[0m     \u001b[0;32mdef\u001b[0m \u001b[0mfind\u001b[0m\u001b[0;34m(\u001b[0m\u001b[0mself\u001b[0m\u001b[0;34m,\u001b[0m \u001b[0mx\u001b[0m\u001b[0;34m)\u001b[0m\u001b[0;34m:\u001b[0m\u001b[0;34m\u001b[0m\u001b[0m\n\u001b[0;32m---> 11\u001b[0;31m         \u001b[0;32mif\u001b[0m \u001b[0mself\u001b[0m\u001b[0;34m.\u001b[0m\u001b[0mparents\u001b[0m\u001b[0;34m[\u001b[0m\u001b[0mx\u001b[0m\u001b[0;34m]\u001b[0m \u001b[0;34m==\u001b[0m \u001b[0mx\u001b[0m\u001b[0;34m:\u001b[0m\u001b[0;34m\u001b[0m\u001b[0m\n\u001b[0m\u001b[1;32m     12\u001b[0m             \u001b[0;32mreturn\u001b[0m \u001b[0mx\u001b[0m\u001b[0;34m\u001b[0m\u001b[0m\n\u001b[1;32m     13\u001b[0m         \u001b[0;32melse\u001b[0m\u001b[0;34m:\u001b[0m\u001b[0;34m\u001b[0m\u001b[0m\n",
      "\u001b[0;31mIndexError\u001b[0m: list index out of range"
     ]
    }
   ],
   "source": [
    "uf.unite(1,5)\n",
    "uf.unite(4,7)\n",
    "uf.unite(6,4)"
   ]
  },
  {
   "cell_type": "code",
   "execution_count": null,
   "metadata": {},
   "outputs": [],
   "source": []
  }
 ],
 "metadata": {
  "kernelspec": {
   "display_name": "Python 3",
   "language": "python",
   "name": "python3"
  },
  "language_info": {
   "codemirror_mode": {
    "name": "ipython",
    "version": 3
   },
   "file_extension": ".py",
   "mimetype": "text/x-python",
   "name": "python",
   "nbconvert_exporter": "python",
   "pygments_lexer": "ipython3",
   "version": "3.7.0"
  }
 },
 "nbformat": 4,
 "nbformat_minor": 2
}
