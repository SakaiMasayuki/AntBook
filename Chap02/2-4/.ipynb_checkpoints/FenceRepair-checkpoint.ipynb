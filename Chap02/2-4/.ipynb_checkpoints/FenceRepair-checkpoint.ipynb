{
 "cells": [
  {
   "cell_type": "markdown",
   "metadata": {},
   "source": [
    "# FenceRepair(PKU 3253)  \n",
    "長さ$L$のある板からN枚の板を切り出したい．切り出したい板の長さはそれぞれ$L_1, L_2, \\ldots, L_N$である．ここで  \n",
    "\n",
    "- $L = \\sum L_i $ \n",
    "\n",
    "が成り立っているとする．　　  \n",
    "また，板を切り出すには，その板の長さ分だけのコストがかかる．最小で全ての板を切り出した時，そのコストはいくらになるか？  \n",
    "\n",
    "### input  \n",
    "- $N = 3$\n",
    "- $L = (8, 5, 8)$\n",
    "\n",
    "### output  \n",
    "- 34  \n",
    "\n",
    "### 方針  \n",
    "- 最も短い2つの板を取り出し，長さがその話になるような板を板の集合に追加できれば良い\n",
    "    - 順位キューを用いると良い  \n",
    "    \n",
    "この場合，$O(N \\log N)$となる．"
   ]
  },
  {
   "cell_type": "code",
   "execution_count": 1,
   "metadata": {},
   "outputs": [],
   "source": [
    "# input \n",
    "n = 3\n",
    "l = [8, 5, 8]"
   ]
  },
  {
   "cell_type": "code",
   "execution_count": 3,
   "metadata": {},
   "outputs": [
    {
     "name": "stdout",
     "output_type": "stream",
     "text": [
      "34\n"
     ]
    }
   ],
   "source": [
    "import heapq as hp\n",
    "\n",
    "hL = []\n",
    "for e in l:\n",
    "    hp.heappush(hL, e)\n",
    "\n",
    "ans = 0\n",
    "    \n",
    "while len(hL) > 1:\n",
    "    s1 = hp.heappop(hL)\n",
    "    s2 = hp.heappop(hL)\n",
    "    ans += s1 + s2\n",
    "    hp.heappush(hL, s1+s2)\n",
    "\n",
    "print(ans)"
   ]
  },
  {
   "cell_type": "code",
   "execution_count": null,
   "metadata": {},
   "outputs": [],
   "source": []
  }
 ],
 "metadata": {
  "kernelspec": {
   "display_name": "Python 3",
   "language": "python",
   "name": "python3"
  },
  "language_info": {
   "codemirror_mode": {
    "name": "ipython",
    "version": 3
   },
   "file_extension": ".py",
   "mimetype": "text/x-python",
   "name": "python",
   "nbconvert_exporter": "python",
   "pygments_lexer": "ipython3",
   "version": "3.7.0"
  }
 },
 "nbformat": 4,
 "nbformat_minor": 2
}
