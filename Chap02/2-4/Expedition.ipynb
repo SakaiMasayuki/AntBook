{
 "cells": [
  {
   "cell_type": "markdown",
   "metadata": {},
   "source": [
    "# Expedition(POJ 2431)  \n",
    "ある車を使って数直線上を距離$l$だけ移動したい．この時ガソリンの量$1$に対して距離$1$を移動できるものとする．また，スタート地点$s$として，$s$から侵攻方向に向かって$N$個のガソリンスタンドがあり，それぞれ距離$a_1, a_2, \\dots, a_N$の地点にある．ここで各ガソリンスタンドではそれぞれ$b_1, b_2, \\ldots, b_N$だけガソリンを補給できる．  \n",
    "\n",
    "距離$l$を移動することはできるか？またできるならば最も少ない補給回数を答えよ．  \n",
    "移動することができない場合は$-1$とする．\n",
    "\n",
    "---\n",
    "### Restriction  \n",
    "- $1 \\leq N \\leq 10000$\n",
    "- $1 \\leq L \\leq 1000000$\n",
    "- $1 \\leq P \\leq 1000000$\n",
    "- $1 \\leq a_i \\leq L$\n",
    "- $1 \\leq b_i \\leq 100$\n",
    "\n",
    "---\n",
    "### input  \n",
    "- $N=4$\n",
    "- $L=25$\n",
    "- $P=10$\n",
    "- $A = (10, 14, 20, 21)$\n",
    "- $B = (10, 5, 2, 4)$\n",
    "\n",
    "---\n",
    "### answer  \n",
    "- $2$\n",
    "\n",
    "---\n",
    "### 方針  \n",
    "- あるガソリンで進めるだけ進む  \n",
    "- 通過したガソリンスタンドをリストに突っ込む  \n",
    "- ガソリンがなくなった時点で通過したガソリンスタンドの中から最も多く補給できるガソリンスタンドを選び補給しリストから排除\n",
    "- 以降繰り返す\n",
    "- ガソリンが空になり，かつガソリンスタンドリストが空の時，距離Lを移動できていなければ失敗となる．"
   ]
  },
  {
   "cell_type": "code",
   "execution_count": 10,
   "metadata": {},
   "outputs": [],
   "source": [
    "# input  \n",
    "N, L, P = 4, 25, 10\n",
    "A = [10, 14, 20, 21]\n",
    "B = [10, 5, 2, 4]"
   ]
  },
  {
   "cell_type": "code",
   "execution_count": 54,
   "metadata": {},
   "outputs": [],
   "source": [
    "import heapq as hp\n",
    "\n",
    "def solve(N, L, P, A, B):\n",
    "    #AB\n",
    "    AB = list(zip(A,B))\n",
    "    \n",
    "    # 通過したガソリンスタンドのリスト\n",
    "    g = []\n",
    "    \n",
    "    # 現在地を示す変数．最初はあるだけのガソリンで進んだ数\n",
    "    x = P\n",
    "    \n",
    "    # 現在のガソリンの量を示す変数，まずは進んでから考えるので0から\n",
    "    p = 0\n",
    "    \n",
    "    # 補給回数\n",
    "    res = 0\n",
    "    \n",
    "    while x < L:\n",
    "        # 通過したガソリンスタンドをリストに追加\n",
    "        # bを負の数にして大小を逆転させておく\n",
    "        for b in  [-b for a, b in AB if a <= x]:\n",
    "            hp.heappush(g,b)\n",
    "        \n",
    "        # 通過したものはリストから除く\n",
    "        AB = [(a, b) for a, b in AB if a > x]\n",
    "        \n",
    "        # 最も多く補給できるガソリンスタンドで補給（したことにする）\n",
    "        p = -hp.heappop(g)\n",
    "        res += 1\n",
    "\n",
    "        # 補給分進み，ガソリンを0にしておく\n",
    "        x += p\n",
    "        p = 0\n",
    "        \n",
    "        # 全て通過，かつ全てで補給していたら抜ける\n",
    "        if not g and not AB:\n",
    "            res = -1\n",
    "            break\n",
    "    \n",
    "    return res"
   ]
  },
  {
   "cell_type": "code",
   "execution_count": 55,
   "metadata": {},
   "outputs": [
    {
     "data": {
      "text/plain": [
       "2"
      ]
     },
     "execution_count": 55,
     "metadata": {},
     "output_type": "execute_result"
    }
   ],
   "source": [
    "solve(N=N, L=L, P=P, A=A, B=B)"
   ]
  },
  {
   "cell_type": "code",
   "execution_count": null,
   "metadata": {},
   "outputs": [],
   "source": []
  }
 ],
 "metadata": {
  "kernelspec": {
   "display_name": "Python 3",
   "language": "python",
   "name": "python3"
  },
  "language_info": {
   "codemirror_mode": {
    "name": "ipython",
    "version": 3
   },
   "file_extension": ".py",
   "mimetype": "text/x-python",
   "name": "python",
   "nbconvert_exporter": "python",
   "pygments_lexer": "ipython3",
   "version": "3.7.0"
  }
 },
 "nbformat": 4,
 "nbformat_minor": 2
}
