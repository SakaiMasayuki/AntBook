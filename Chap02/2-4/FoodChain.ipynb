{
 "cells": [
  {
   "cell_type": "markdown",
   "metadata": {},
   "source": [
    "# 食物連鎖  \n"
   ]
  },
  {
   "cell_type": "markdown",
   "metadata": {},
   "source": [
    "$N$匹の生き物がいて，それぞれ$l_1, l_2, \\dots, l_N$とする．今与えられた全ての生き物は$A, B, C$の３種類のどれかである．また，$A$は$B$を食べ，$B$は$C$を食べ，$C$は$A$を食べる習性がある．  \n",
    "今，$k$個の２匹の生き物に関する情報が与えられる．またこの情報は以下の２種類に分けられる．  \n",
    "\n",
    "- $t=1$: $x$と$y$は同じ種類である\n",
    "- $t=2$: $x$は$y$を食べる\n",
    "\n",
    "ここで，与えられる情報は全て正しいとは限らない．以前の情報との矛盾や，$x, y$が正しい番号出ない場合がある．与えられた情報のうち，いくつ誤った情報があるか判定せよ．\n",
    "\n",
    "---\n",
    "### Restriction  \n",
    "- $1 \\leq N \\leq 50000$\n",
    "- $0 \\leq k \\leq 100000$\n",
    "\n",
    "---\n",
    "### Input  \n",
    "- $N=100$\n",
    "- $k = 7$\n",
    "- $t = 1, x= 101, y=1$\n",
    "- $t = 2, x = 1, y = 2 $\n",
    "- $t = 2, x = 2, y = 3$\n",
    "- $t = 2, x = 3, y = 3$\n",
    "- $t = 1, x = 1, y = 3$\n",
    "- $t = 2, x= 3, y = 1$\n",
    "- $t = 1, x = 5, y= 5$\n",
    "\n",
    "---\n",
    "### Answer  \n",
    "- $3$(1,4,5は誤り)\n",
    "\n",
    "---"
   ]
  },
  {
   "cell_type": "markdown",
   "metadata": {},
   "source": [
    "## Union-Find treeの実装"
   ]
  },
  {
   "cell_type": "code",
   "execution_count": 10,
   "metadata": {},
   "outputs": [],
   "source": [
    "class UnionFind():\n",
    "    def __init__(self, size):\n",
    "        \"\"\"\n",
    "        - make n elements as parent node\n",
    "        - first, every parent node's rank are 0\n",
    "        \"\"\"\n",
    "        self.parents = [i for i in range(size+1)]\n",
    "        self.rank = [0 for _ in range(size+1)]\n",
    "    \n",
    "    def find(self, x):\n",
    "        if self.parents[x] == x:\n",
    "            return x\n",
    "        else:\n",
    "            self.parents[x] = self.find(self.parents[x])\n",
    "            return self.parents[x]\n",
    "\n",
    "    \n",
    "    def unite(self, x, y):\n",
    "        x = self.find(x)\n",
    "        y = self.find(y)\n",
    "        if x == y:\n",
    "            return\n",
    "        else:\n",
    "            self.parents[y] = x\n",
    "            if self.rank[x] == self.rank[y]:\n",
    "                self.rank[x] += 1\n",
    "                \n",
    "    def is_same(self, x, y):\n",
    "        return self.find(x) == self.find(y)"
   ]
  },
  {
   "cell_type": "markdown",
   "metadata": {},
   "source": [
    "---\n",
    "### 解答の方針  \n",
    "- それぞれの動物に対して全ての種類である場合を想定する\n",
    "    - $n \\times 3$の要素を用意する\n",
    "- 情報が与えられた時  \n",
    "    - 併合するペアについて矛盾をチェック\n",
    "    - それぞれのペアを併合"
   ]
  },
  {
   "cell_type": "code",
   "execution_count": 18,
   "metadata": {},
   "outputs": [],
   "source": [
    "# input\n",
    "n = 100\n",
    "k = 7\n",
    "T = [1,2,2,2,1,2,1]\n",
    "X = [101, 1, 2 ,3, 1, 3, 5]\n",
    "Y = [1, 2, 3, 3, 3, 1, 5]"
   ]
  },
  {
   "cell_type": "markdown",
   "metadata": {},
   "source": [
    "---"
   ]
  },
  {
   "cell_type": "code",
   "execution_count": 21,
   "metadata": {},
   "outputs": [
    {
     "name": "stdout",
     "output_type": "stream",
     "text": [
      "3\n"
     ]
    }
   ],
   "source": [
    "# solve  \n",
    "uf = UnionFind(n * 3)\n",
    "\n",
    "ans = 0\n",
    "\n",
    "for i in range(k):\n",
    "    # information\n",
    "    t, x, y = [T[i], X[i]-1, Y[i]-1]\n",
    "    \n",
    "    # index error\n",
    "    if x < 0 or n <= x or y < 0 or n <= y:\n",
    "        ans += 1\n",
    "        continue\n",
    "        \n",
    "    # type 1\n",
    "    if t == 1:\n",
    "        # check\n",
    "        if uf.is_same(x, y+n) or uf.is_same(x, y + 2*n):\n",
    "            ans += 1\n",
    "        else:\n",
    "            uf.unite(x, y)\n",
    "            uf.unite(x + n, y+n)\n",
    "            uf.unite(x + n*2, y + n*2)\n",
    "    # type2\n",
    "    else:    \n",
    "        # check\n",
    "        if uf.is_same(x, y) or uf.is_same(x, y + 2*n):\n",
    "            ans += 1\n",
    "        else:\n",
    "            uf.unite(x, y+n)\n",
    "            uf.unite(x + n, y + 2 * n)\n",
    "            uf.unite(x + 2*n, y)\n",
    "            \n",
    "# answer\n",
    "print(ans)"
   ]
  }
 ],
 "metadata": {
  "kernelspec": {
   "display_name": "Python 3",
   "language": "python",
   "name": "python3"
  },
  "language_info": {
   "codemirror_mode": {
    "name": "ipython",
    "version": 3
   },
   "file_extension": ".py",
   "mimetype": "text/x-python",
   "name": "python",
   "nbconvert_exporter": "python",
   "pygments_lexer": "ipython3",
   "version": "3.7.0"
  }
 },
 "nbformat": 4,
 "nbformat_minor": 2
}
