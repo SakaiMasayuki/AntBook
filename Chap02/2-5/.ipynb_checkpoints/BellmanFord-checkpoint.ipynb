{
 "cells": [
  {
   "cell_type": "markdown",
   "metadata": {},
   "source": [
    "# 単一始点最短経路問題１ Bellman-Ford method  \n",
    "始点を固定した時に，他の全ての頂点との間の最短経路を求める問題を単一始点最短経路問題と言います．さらに，終点を固定したものを２頂点つい最短経路問題と言いますが，同じ計算量で単一始点最短経路問題が解ける．よってここでは単一始点最短経路問題を解く．　　\n",
    "\n",
    "まず，始点$s$から頂点$i$への最短距離を$d_i$とする．この時，次の式が成り立つ．"
   ]
  },
  {
   "cell_type": "markdown",
   "metadata": {},
   "source": [
    "$$\n",
    "    d_i = \\min \\left[ d_j + c_{ji} | e=(j,i) \\in \\rm E  \\right]\n",
    "$$"
   ]
  },
  {
   "cell_type": "markdown",
   "metadata": {},
   "source": [
    "ここで$c_ji$は頂点$j$から頂点$i$の辺のコストである．もしグラフがDAGであれば，頂点を順序づけられるので，この漸化式を用いて$d$を計算することができる．　　\n",
    "\n",
    "ただし，グラフに閉路が含まれる場合は順に計算できない．その場合でも，頂点$i$への仮の最短距離を$d_i$として，初期値$d_s = 0, d_i = \\infty$として，この式を繰り返し適用して$d$を更新していくことで$d$を求めることができる．  \n",
    "負の閉路が存在しない限り更新は有限回で収まり，その時$d$は最短距離となっている．"
   ]
  },
  {
   "cell_type": "markdown",
   "metadata": {},
   "source": [
    "---  \n",
    "### 重み付きDAGの実装"
   ]
  },
  {
   "cell_type": "code",
   "execution_count": 2,
   "metadata": {},
   "outputs": [
    {
     "ename": "SyntaxError",
     "evalue": "invalid syntax (<ipython-input-2-ce932d978699>, line 1)",
     "output_type": "error",
     "traceback": [
      "\u001b[0;36m  File \u001b[0;32m\"<ipython-input-2-ce932d978699>\"\u001b[0;36m, line \u001b[0;32m1\u001b[0m\n\u001b[0;31m    from ../../Implements/ import DAGW\u001b[0m\n\u001b[0m           ^\u001b[0m\n\u001b[0;31mSyntaxError\u001b[0m\u001b[0;31m:\u001b[0m invalid syntax\n"
     ]
    }
   ],
   "source": [
    "class WDAG():\n",
    "    def __init__(self):\n",
    "        self.vertex_list = []\n",
    "        self.edge_dict = {}\n",
    "\n",
    "\n",
    "    def vertex_exist(self, v):\n",
    "        return v in self.vertex_list\n",
    "\n",
    "\n",
    "    def edge_exist(self, vs, vg):\n",
    "        if not self.vertex_exist(vs) or not self.vertex_exist(vg):\n",
    "            return 'vertex exists error'\n",
    "        else:\n",
    "            return vg in [v for v, w in self.edge_dict[vs]]\n",
    "\n",
    "\n",
    "    def add_vertex(self, v):\n",
    "        if not self.vertex_exist(v):\n",
    "            self.vertex_list.append(v)\n",
    "            self.edge_dict[v] = []\n",
    "        else:\n",
    "            return 'vertex exists error'\n",
    "\n",
    "\n",
    "    def add_edge(self, vs, vg, w):\n",
    "        if not self.edge_exist(vs, vg):\n",
    "            self.edge_dict[vs].append([vg, w])\n",
    "        else:\n",
    "            return 'edge exists error'\n",
    "\n",
    "\n",
    "    def rm_vertex(self, v):\n",
    "        if self.vertex_exist(v):\n",
    "            self.vertex_list.pop(self.vertex_list.index(v))\n",
    "            self.edge_dict.pop(v)            \n",
    "        else:\n",
    "            return 'given vertex dose not exist'\n",
    "\n",
    "\n",
    "    def rm_edge(self, vs, vg):\n",
    "        if self.edge_exist(vs, vg):\n",
    "            self.edge_dict[vs].pop([v for v, w in self.edge_dict[vs]].index(vg))\n",
    "        else:\n",
    "            return 'given edge does not exist'\n",
    "\n",
    "\n",
    "    def adj_vertex(self, v):\n",
    "        if self.vertex_exist(v):\n",
    "            return self.edge_dict.pop(v)\n",
    "        else:\n",
    "            return 'vertex exists error'\n",
    "\n",
    "\n",
    "    def degree(self, v):\n",
    "        if self.vertex_exist(v):\n",
    "            return len(self.edge_dict[v])\n",
    "        else:\n",
    "            return 'vertex exists error'\n",
    "\n",
    "\n",
    "    def show(self):\n",
    "        print(self.vertex_list)\n",
    "        print(self.edge_dict)"
   ]
  },
  {
   "cell_type": "code",
   "execution_count": null,
   "metadata": {},
   "outputs": [],
   "source": []
  }
 ],
 "metadata": {
  "kernelspec": {
   "display_name": "Python 3",
   "language": "python",
   "name": "python3"
  },
  "language_info": {
   "codemirror_mode": {
    "name": "ipython",
    "version": 3
   },
   "file_extension": ".py",
   "mimetype": "text/x-python",
   "name": "python",
   "nbconvert_exporter": "python",
   "pygments_lexer": "ipython3",
   "version": "3.7.0"
  }
 },
 "nbformat": 4,
 "nbformat_minor": 2
}
