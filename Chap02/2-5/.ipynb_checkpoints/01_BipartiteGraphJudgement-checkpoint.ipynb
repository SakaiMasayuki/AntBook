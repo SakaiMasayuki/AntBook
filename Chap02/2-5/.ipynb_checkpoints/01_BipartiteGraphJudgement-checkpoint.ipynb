{
 "cells": [
  {
   "cell_type": "code",
   "execution_count": 2,
   "metadata": {},
   "outputs": [],
   "source": [
    "import graphviz as gvz"
   ]
  },
  {
   "cell_type": "markdown",
   "metadata": {},
   "source": [
    "# Bipertite Graph Judgement  \n",
    "頂点数$n$のNon-Directed Graphが与えられる．隣接している頂点同士が違う色になるように，頂点に色を塗る．２章以内で全ての頂点を塗ることができるか判定して下さい．多重辺やループはないものとする．\n",
    "\n",
    "### Restriction  \n",
    "- $1 \\leq n \\leq 1000$"
   ]
  },
  {
   "cell_type": "markdown",
   "metadata": {},
   "source": [
    "---\n",
    "## example1\n",
    "### input\n",
    "- $n = 3$\n",
    "- $e(0, 1) = e(1, 0)$\n",
    "- $e(0, 2) = e(2, 0)$\n",
    "- $e(1, 2) = e(2, 1)$\n",
    "\n",
    "### answer  \n",
    "- No：色を塗るのには３色必要\n"
   ]
  },
  {
   "cell_type": "code",
   "execution_count": 25,
   "metadata": {},
   "outputs": [
    {
     "data": {
      "text/plain": [
       "'ex1.png'"
      ]
     },
     "execution_count": 25,
     "metadata": {},
     "output_type": "execute_result"
    }
   ],
   "source": [
    "ex1 = gvz.Graph(format='png')\n",
    "ex1.attr('node', shape = 'circle')\n",
    "\n",
    "# node\n",
    "ex1.node(\"0\")\n",
    "ex1.node(\"1\")\n",
    "ex1.node(\"2\")\n",
    "\n",
    "# edge\n",
    "ex1.edge(\"0\", \"1\")\n",
    "ex1.edge(\"0\", \"2\")\n",
    "ex1.edge(\"1\", \"2\")\n",
    "\n",
    "# show\n",
    "ex1.render('ex1')"
   ]
  },
  {
   "cell_type": "code",
   "execution_count": 28,
   "metadata": {},
   "outputs": [
    {
     "data": {
      "image/png": "[encoded data removed]"
     },
     "metadata": {},
     "output_type": "display_data"
    }
   ],
   "source": [
    "from IPython.display import Image, display_png\n",
    "display_png(Image('ex1.png'))"
   ]
  },
  {
   "cell_type": "markdown",
   "metadata": {},
   "source": [
    "---\n",
    "## example2\n",
    "### input  \n",
    "- $n =4$\n",
    "- $e(0, 1) = e(1, 0)$\n",
    "- $e(0, 3) = e(3, 0)$\n",
    "- $e(1, 2) = e(2, 1)$\n",
    "- $e(2, 3) = e(3, 2)$\n",
    "\n",
    "### answer  \n",
    "- Yes"
   ]
  },
  {
   "cell_type": "code",
   "execution_count": 29,
   "metadata": {},
   "outputs": [
    {
     "data": {
      "text/plain": [
       "'ex2.png'"
      ]
     },
     "execution_count": 29,
     "metadata": {},
     "output_type": "execute_result"
    }
   ],
   "source": [
    "ex2 = gvz.Graph(format='png')\n",
    "ex2.attr('node', shape = 'circle')\n",
    "\n",
    "# node\n",
    "ex2.node(\"0\")\n",
    "ex2.node(\"1\")\n",
    "ex2.node(\"2\")\n",
    "ex2.node(\"3\")\n",
    "\n",
    "# edge\n",
    "ex2.edge(\"0\", \"1\")\n",
    "ex2.edge(\"0\", \"3\")\n",
    "ex2.edge(\"1\", \"2\")\n",
    "ex2.edge(\"2\", \"3\")\n",
    "\n",
    "# show\n",
    "ex2.render('ex2')"
   ]
  },
  {
   "cell_type": "code",
   "execution_count": 31,
   "metadata": {},
   "outputs": [
    {
     "data": {
      "image/png": "[encoded data removed]"
     },
     "metadata": {},
     "output_type": "display_data"
    }
   ],
   "source": [
    "from IPython.display import Image, display_png\n",
    "display_png(Image('ex2.png'))"
   ]
  },
  {
   "cell_type": "markdown",
   "metadata": {},
   "source": [
    "---\n",
    "### 解答の方針  \n",
    "2色で塗り分けていくので，適当な頂点を一つ選び色を決めれば隣接する頂点の色も決まる．これを続けていけば判定ができる．深さ優先探索で簡単に書ける．"
   ]
  },
  {
   "cell_type": "markdown",
   "metadata": {},
   "source": [
    "### グラフを扱うクラス  "
   ]
  },
  {
   "cell_type": "code",
   "execution_count": 75,
   "metadata": {},
   "outputs": [],
   "source": [
    "class Graph():\n",
    "    def __init__(self):\n",
    "        self.vertex_list = []\n",
    "        self.edge_dict = {}\n",
    "  \n",
    "    def vertex_exist(self, v):\n",
    "        return v in self.vertex_list\n",
    "    \n",
    "    def edge_exist(self, v1, v2):\n",
    "        if not self.vertex_exist(v1) or not self.vertex_exist(v2):\n",
    "            return \"vertex exist error\"\n",
    "        else:\n",
    "            return v1 in self.edge_dict[v2] and v2 in self.edge_dict[v1]\n",
    "\n",
    "    def add_vertex(self, v):\n",
    "        if not self.vertex_exist(v):\n",
    "            self.vertex_list.append(v)\n",
    "            self.edge_dict[v] = []\n",
    "        else:\n",
    "            return 'node exists error'\n",
    "            \n",
    "    def add_edge(self, v1, v2):\n",
    "        if not self.edge_exist(v1, v2):\n",
    "            self.edge_dict[v1].append(v2)\n",
    "            self.edge_dict[v2].append(v1)\n",
    "        else:\n",
    "            return  'edge exists error'\n",
    "\n",
    "            \n",
    "    def rm_vertex(self, v):\n",
    "        if self.vertex_exist(v):\n",
    "            self.vertex_list.pop(self.vertex_list.index(v))\n",
    "            self.edge_dict[v].pop()            \n",
    "        else:\n",
    "            return  'edge exists error'\n",
    "            \n",
    "            \n",
    "    def rm_edge(self, v1, v2):\n",
    "        if self.edge_exist(v1, v2):\n",
    "            self.edge_dict[v1].append(v2)\n",
    "            self.edge_dict[v2].append(v1)\n",
    "        else:\n",
    "            return 'edge exists error'\n",
    "        \n",
    "\n",
    "    def adj_vertex(self, v):\n",
    "        if self.vertex_exist(v):\n",
    "            return self.edge_dict[v]\n",
    "        else:\n",
    "            return 'vertex exists error'\n",
    "            \n",
    "            \n",
    "    def degree(self, v):\n",
    "        if self.vertex_exist(v):\n",
    "            return len(self.edge_dict[v])\n",
    "        else:\n",
    "            return 'vertex exists error'\n",
    "        \n",
    "        \n",
    "    def show(self):\n",
    "        print(self.vertex_list)\n",
    "        print(self.edge_dict)"
   ]
  },
  {
   "cell_type": "code",
   "execution_count": 76,
   "metadata": {},
   "outputs": [],
   "source": [
    "g = Graph()"
   ]
  },
  {
   "cell_type": "code",
   "execution_count": 77,
   "metadata": {},
   "outputs": [],
   "source": [
    "# node\n",
    "g.add_node(0)\n",
    "g.add_node(1)\n",
    "g.add_node(2)"
   ]
  },
  {
   "cell_type": "code",
   "execution_count": 78,
   "metadata": {},
   "outputs": [
    {
     "name": "stdout",
     "output_type": "stream",
     "text": [
      "[0, 1, 2]\n",
      "{0: [1, 2], 1: [0, 2], 2: [1, 0]}\n"
     ]
    }
   ],
   "source": [
    "# edge\n",
    "g.add_edge(0, 1)\n",
    "g.add_edge(1, 2)\n",
    "g.add_edge(2, 0)\n",
    "\n",
    "# show\n",
    "g.show()"
   ]
  },
  {
   "cell_type": "code",
   "execution_count": 79,
   "metadata": {},
   "outputs": [
    {
     "data": {
      "text/plain": [
       "[1, 2]"
      ]
     },
     "execution_count": 79,
     "metadata": {},
     "output_type": "execute_result"
    }
   ],
   "source": [
    "g.adj_vertex(0)"
   ]
  },
  {
   "cell_type": "code",
   "execution_count": 80,
   "metadata": {},
   "outputs": [
    {
     "data": {
      "text/plain": [
       "True"
      ]
     },
     "execution_count": 80,
     "metadata": {},
     "output_type": "execute_result"
    }
   ],
   "source": [
    "g.edge_exist(0, 1)"
   ]
  },
  {
   "cell_type": "code",
   "execution_count": 81,
   "metadata": {},
   "outputs": [
    {
     "data": {
      "text/plain": [
       "True"
      ]
     },
     "execution_count": 81,
     "metadata": {},
     "output_type": "execute_result"
    }
   ],
   "source": [
    "g.edge_exist(1,2)"
   ]
  },
  {
   "cell_type": "markdown",
   "metadata": {},
   "source": [
    "---"
   ]
  },
  {
   "cell_type": "code",
   "execution_count": 83,
   "metadata": {},
   "outputs": [],
   "source": [
    "# input  ex1\n",
    "V = 3 # 頂点数\n",
    "color = [0]*V # 頂点の色\n",
    "edges = [[0,1], [0, 2], [1, 2]] # 隣接リスト"
   ]
  },
  {
   "cell_type": "code",
   "execution_count": null,
   "metadata": {},
   "outputs": [],
   "source": [
    "g = Graph()\n",
    "\n",
    "g.add_node"
   ]
  },
  {
   "cell_type": "code",
   "execution_count": 74,
   "metadata": {},
   "outputs": [],
   "source": [
    "def dfs(g, v, c):\n",
    "    color[v] = c # coloring vertex v by c\n",
    "    for vi in range(g.adj_vertex(v)):\n",
    "        # 隣接している頂点が同じ色なら false\n",
    "        if color[vi] == c:\n",
    "            return False\n",
    "        elif color[vi] == 0 and not dfs(g, vi, -c):\n",
    "            return False\n",
    "    return true"
   ]
  },
  {
   "cell_type": "code",
   "execution_count": 82,
   "metadata": {},
   "outputs": [
    {
     "ename": "TypeError",
     "evalue": "'list' object cannot be interpreted as an integer",
     "output_type": "error",
     "traceback": [
      "\u001b[0;31m---------------------------------------------------------------------------\u001b[0m",
      "\u001b[0;31mTypeError\u001b[0m                                 Traceback (most recent call last)",
      "\u001b[0;32m<ipython-input-82-522790b7e122>\u001b[0m in \u001b[0;36m<module>\u001b[0;34m()\u001b[0m\n\u001b[1;32m      4\u001b[0m     \u001b[0;32mif\u001b[0m \u001b[0mcolor\u001b[0m\u001b[0;34m[\u001b[0m\u001b[0mi\u001b[0m\u001b[0;34m]\u001b[0m \u001b[0;34m==\u001b[0m \u001b[0;36m0\u001b[0m\u001b[0;34m:\u001b[0m\u001b[0;34m\u001b[0m\u001b[0m\n\u001b[1;32m      5\u001b[0m         \u001b[0;31m#  まだ頂点iが塗られていなければ1で塗る\u001b[0m\u001b[0;34m\u001b[0m\u001b[0;34m\u001b[0m\u001b[0m\n\u001b[0;32m----> 6\u001b[0;31m         \u001b[0;32mif\u001b[0m \u001b[0;32mnot\u001b[0m \u001b[0mdfs\u001b[0m\u001b[0;34m(\u001b[0m\u001b[0mg\u001b[0m\u001b[0;34m,\u001b[0m \u001b[0mi\u001b[0m\u001b[0;34m,\u001b[0m \u001b[0;36m1\u001b[0m\u001b[0;34m)\u001b[0m\u001b[0;34m:\u001b[0m\u001b[0;34m\u001b[0m\u001b[0m\n\u001b[0m\u001b[1;32m      7\u001b[0m                 \u001b[0mres\u001b[0m \u001b[0;34m=\u001b[0m \u001b[0;34m\"No\"\u001b[0m\u001b[0;34m\u001b[0m\u001b[0m\n\u001b[1;32m      8\u001b[0m \u001b[0;34m\u001b[0m\u001b[0m\n",
      "\u001b[0;32m<ipython-input-74-fc867486da17>\u001b[0m in \u001b[0;36mdfs\u001b[0;34m(g, v, c)\u001b[0m\n\u001b[1;32m      1\u001b[0m \u001b[0;32mdef\u001b[0m \u001b[0mdfs\u001b[0m\u001b[0;34m(\u001b[0m\u001b[0mg\u001b[0m\u001b[0;34m,\u001b[0m \u001b[0mv\u001b[0m\u001b[0;34m,\u001b[0m \u001b[0mc\u001b[0m\u001b[0;34m)\u001b[0m\u001b[0;34m:\u001b[0m\u001b[0;34m\u001b[0m\u001b[0m\n\u001b[1;32m      2\u001b[0m     \u001b[0mcolor\u001b[0m\u001b[0;34m[\u001b[0m\u001b[0mv\u001b[0m\u001b[0;34m]\u001b[0m \u001b[0;34m=\u001b[0m \u001b[0mc\u001b[0m \u001b[0;31m# coloring vertex v by c\u001b[0m\u001b[0;34m\u001b[0m\u001b[0m\n\u001b[0;32m----> 3\u001b[0;31m     \u001b[0;32mfor\u001b[0m \u001b[0mvi\u001b[0m \u001b[0;32min\u001b[0m \u001b[0mrange\u001b[0m\u001b[0;34m(\u001b[0m\u001b[0mg\u001b[0m\u001b[0;34m.\u001b[0m\u001b[0madj_vertex\u001b[0m\u001b[0;34m(\u001b[0m\u001b[0mv\u001b[0m\u001b[0;34m)\u001b[0m\u001b[0;34m)\u001b[0m\u001b[0;34m:\u001b[0m\u001b[0;34m\u001b[0m\u001b[0m\n\u001b[0m\u001b[1;32m      4\u001b[0m         \u001b[0;31m# 隣接している頂点が同じ色なら false\u001b[0m\u001b[0;34m\u001b[0m\u001b[0;34m\u001b[0m\u001b[0m\n\u001b[1;32m      5\u001b[0m         \u001b[0;32mif\u001b[0m \u001b[0mcolor\u001b[0m\u001b[0;34m[\u001b[0m\u001b[0mvi\u001b[0m\u001b[0;34m]\u001b[0m \u001b[0;34m==\u001b[0m \u001b[0mc\u001b[0m\u001b[0;34m:\u001b[0m\u001b[0;34m\u001b[0m\u001b[0m\n",
      "\u001b[0;31mTypeError\u001b[0m: 'list' object cannot be interpreted as an integer"
     ]
    }
   ],
   "source": [
    "res = \"Yes\"\n",
    "\n",
    "for i in g.vertex_list:\n",
    "    if color[i] == 0:\n",
    "        #  まだ頂点iが塗られていなければ1で塗る\n",
    "        if not dfs(g, i, 1):\n",
    "                res = \"No\"\n",
    "\n",
    "print(res)"
   ]
  },
  {
   "cell_type": "code",
   "execution_count": null,
   "metadata": {},
   "outputs": [],
   "source": []
  }
 ],
 "metadata": {
  "kernelspec": {
   "display_name": "Python 3",
   "language": "python",
   "name": "python3"
  },
  "language_info": {
   "codemirror_mode": {
    "name": "ipython",
    "version": 3
   },
   "file_extension": ".py",
   "mimetype": "text/x-python",
   "name": "python",
   "nbconvert_exporter": "python",
   "pygments_lexer": "ipython3",
   "version": "3.7.0"
  }
 },
 "nbformat": 4,
 "nbformat_minor": 2
}
