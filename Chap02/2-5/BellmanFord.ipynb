{
 "cells": [
  {
   "cell_type": "markdown",
   "metadata": {},
   "source": [
    "# 単一始点最短経路問題１ Bellman-Ford method  \n",
    "始点を固定した時に，他の全ての頂点との間の最短経路を求める問題を単一始点最短経路問題と言います．さらに，終点を固定したものを２頂点つい最短経路問題と言いますが，同じ計算量で単一始点最短経路問題が解ける．よってここでは単一始点最短経路問題を解く．　　\n",
    "\n",
    "まず，始点$s$から頂点$i$への最短距離を$d_i$とする．この時，次の式が成り立つ．"
   ]
  },
  {
   "cell_type": "markdown",
   "metadata": {},
   "source": [
    "$$\n",
    "    d_i = \\min \\left[ d_j + c_{ji} | e=(j,i) \\in \\rm E  \\right]\n",
    "$$"
   ]
  },
  {
   "cell_type": "markdown",
   "metadata": {},
   "source": [
    "ここで$c_ji$は頂点$j$から頂点$i$の辺のコストである．もしグラフがDAGであれば，頂点を順序づけられるので，この漸化式を用いて$d$を計算することができる．　　\n",
    "\n",
    "ただし，グラフに閉路が含まれる場合は順に計算できない．その場合でも，頂点$i$への仮の最短距離を$d_i$として，初期値$d_s = 0, d_i = \\infty$として，この式を繰り返し適用して$d$を更新していくことで$d$を求めることができる．  \n",
    "負の閉路が存在しない限り更新は有限回で収まり，その時$d$は最短距離となっている．"
   ]
  },
  {
   "cell_type": "code",
   "execution_count": 32,
   "metadata": {},
   "outputs": [],
   "source": [
    "import graphviz as gvz\n",
    "g = gvz.Graph(format = 'png')\n",
    "g.attr('node', shape = 'circle')\n",
    "\n",
    "node_list = list(range(7))\n",
    "edge_list = [[0, 1, 2], [0, 2, 5], [1, 2, 4], \n",
    "                      [2, 3, 2], [1, 3, 6], [1, 4, 10], \n",
    "                      [3, 5, 1], [4, 5, 3], [4, 6, 5],\n",
    "                      [5, 6, 9]]"
   ]
  },
  {
   "cell_type": "code",
   "execution_count": 33,
   "metadata": {},
   "outputs": [],
   "source": [
    "for v in node_list:\n",
    "    g.node(str(v))"
   ]
  },
  {
   "cell_type": "code",
   "execution_count": 34,
   "metadata": {},
   "outputs": [],
   "source": [
    "for vs, vg, w in edge_list:\n",
    "    g.edge(str(vs), str(vg), str(w))"
   ]
  },
  {
   "cell_type": "code",
   "execution_count": 35,
   "metadata": {},
   "outputs": [
    {
     "data": {
      "text/plain": [
       "'ex3.png'"
      ]
     },
     "execution_count": 35,
     "metadata": {},
     "output_type": "execute_result"
    }
   ],
   "source": [
    "g.render('ex3')"
   ]
  },
  {
   "cell_type": "code",
   "execution_count": 37,
   "metadata": {
    "scrolled": true
   },
   "outputs": [
    {
     "data": {
      "image/png": "[encoded data removed]"
     },
     "metadata": {},
     "output_type": "display_data"
    }
   ],
   "source": [
    "from IPython.display import Image, display_png\n",
    "display_png(Image('ex3.png'))"
   ]
  },
  {
   "cell_type": "markdown",
   "metadata": {},
   "source": [
    "### Answer  \n",
    "$$\n",
    "    {\\rm A \\rightarrow C \\rightarrow D \\rightarrow F \\rightarrow G }\n",
    "$$\n",
    "16"
   ]
  },
  {
   "cell_type": "markdown",
   "metadata": {},
   "source": [
    "---  \n",
    "### 重み付きDAGの実装"
   ]
  },
  {
   "cell_type": "code",
   "execution_count": 3,
   "metadata": {},
   "outputs": [],
   "source": [
    "class WDAG():\n",
    "    def __init__(self):\n",
    "        self.vertex_list = []\n",
    "        self.edge_dict = {}\n",
    "\n",
    "\n",
    "    def vertex_exist(self, v):\n",
    "        return v in self.vertex_list\n",
    "\n",
    "\n",
    "    def edge_exist(self, vs, vg):\n",
    "        if not self.vertex_exist(vs) or not self.vertex_exist(vg):\n",
    "            return 'vertex exists error'\n",
    "        else:\n",
    "            return vg in [v for v, w in self.edge_dict[vs]]\n",
    "\n",
    "\n",
    "    def add_vertex(self, v):\n",
    "        if not self.vertex_exist(v):\n",
    "            self.vertex_list.append(v)\n",
    "            self.edge_dict[v] = []\n",
    "        else:\n",
    "            return 'vertex exists error'\n",
    "\n",
    "\n",
    "    def add_edge(self, vs, vg, w):\n",
    "        if not self.edge_exist(vs, vg):\n",
    "            self.edge_dict[vs].append([vg, w])\n",
    "        else:\n",
    "            return 'edge exists error'\n",
    "\n",
    "\n",
    "    def rm_vertex(self, v):\n",
    "        if self.vertex_exist(v):\n",
    "            self.vertex_list.pop(self.vertex_list.index(v))\n",
    "            self.edge_dict.pop(v)            \n",
    "        else:\n",
    "            return 'given vertex dose not exist'\n",
    "\n",
    "\n",
    "    def rm_edge(self, vs, vg):\n",
    "        if self.edge_exist(vs, vg):\n",
    "            self.edge_dict[vs].pop([v for v, w in self.edge_dict[vs]].index(vg))\n",
    "        else:\n",
    "            return 'given edge does not exist'\n",
    "\n",
    "\n",
    "    def adj_vertex(self, v):\n",
    "        if self.vertex_exist(v):\n",
    "            return self.edge_dict.pop(v)\n",
    "        else:\n",
    "            return 'vertex exists error'\n",
    "\n",
    "\n",
    "    def degree(self, v):\n",
    "        if self.vertex_exist(v):\n",
    "            return len(self.edge_dict[v])\n",
    "        else:\n",
    "            return 'vertex exists error'\n",
    "\n",
    "\n",
    "    def show(self):\n",
    "        print(self.vertex_list)\n",
    "        print(self.edge_dict)"
   ]
  },
  {
   "cell_type": "code",
   "execution_count": null,
   "metadata": {},
   "outputs": [],
   "source": []
  }
 ],
 "metadata": {
  "kernelspec": {
   "display_name": "Python 3",
   "language": "python",
   "name": "python3"
  },
  "language_info": {
   "codemirror_mode": {
    "name": "ipython",
    "version": 3
   },
   "file_extension": ".py",
   "mimetype": "text/x-python",
   "name": "python",
   "nbconvert_exporter": "python",
   "pygments_lexer": "ipython3",
   "version": "3.7.0"
  }
 },
 "nbformat": 4,
 "nbformat_minor": 2
}
