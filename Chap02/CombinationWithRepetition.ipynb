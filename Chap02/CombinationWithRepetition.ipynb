{
 "cells": [
  {
   "cell_type": "markdown",
   "metadata": {},
   "source": [
    "# Combination with repetition：重複組み合わせ  \n",
    "$n$種類の品物があり，$i$番目の品物は$a_i$個ある．異なる種類の品物同士は区別できるが，同じ種類の品物同士は区別できない．  \n",
    "これらの品物の中から$m$個選ぶ組み合わせの総数を求め，$M$で割った余りを答えよ．\n",
    "\n",
    "---\n",
    "### Restriction  \n",
    "- $1 \\leq n \\leq 1000$\n",
    "- $1 \\leq m \\leq 1000$ \n",
    "- $1 \\leq a_i \\leq 1000$\n",
    "- $2 \\leq M \\leq 10000$\n",
    "---\n",
    "### input  \n",
    "- $n = 3$\n",
    "- $m = 3$\n",
    "- $a = \\{ 1, 2, 3 \\}$\n",
    "- $M = 10000$\n",
    "---\n",
    "### output  \n",
    "- $6(0+0+3, \\ 0+1+2, \\ 0+2+1, \\ 1+0+2, \\ 1+1+1, \\ 1+2+0)$\n",
    "---\n",
    "### 方針  \n",
    "重複を排除し数え上げるためには，同じ種類のいなものを一度に処理すれば良い．そこでdp配列を次のように定義する．  \n",
    "\n",
    "- $dp[i+1][j]:=i$番目までの品物から$j$個選ぶ組み合わせの総数  \n",
    "\n",
    "$i$番目の品物から$j$個選ぶためには，$i-1$番目までの品物から$j-k$個選んで，$i$番目の品物を$k$個加えれば良いので，  \n",
    "\n",
    "$$\n",
    "    dp[i+1][j] = \\sum_{k=0}^{\\min(j, a[i])} dp[i][j-k]\n",
    "$$  \n",
    "\n",
    "という漸化式が成り立つ．ここで  \n",
    "\n",
    "$$\n",
    "    \\sum_{k=0}^{\\min(j, a[i])} dp[i][j-k] = \\sum_{k=0}^{\\min(j-1, a[i])} dp[i][j-1-k] + dp[i][j] - dp[i][i-k-a_i]\n",
    "$$\n",
    "\n",
    "であることに注意すると  \n",
    "\n",
    "$$\n",
    "    dp[i+1][j] = dp[i+1][j-1] + dp[i][j] - dp[i][j - 1 - a_i]\n",
    "$$\n",
    "\n",
    "と変形することで，計算量は$O(nm)$となる．"
   ]
  },
  {
   "cell_type": "code",
   "execution_count": 51,
   "metadata": {},
   "outputs": [],
   "source": [
    "# input \n",
    "n = 3\n",
    "m = 3\n",
    "a = [1,2,3]\n",
    "M = 10000"
   ]
  },
  {
   "cell_type": "code",
   "execution_count": 52,
   "metadata": {},
   "outputs": [
    {
     "data": {
      "text/plain": [
       "[[0, 0, 0, 0], [0, 0, 0, 0], [0, 0, 0, 0], [0, 0, 0, 0]]"
      ]
     },
     "execution_count": 52,
     "metadata": {},
     "output_type": "execute_result"
    }
   ],
   "source": [
    "dp = [[0]*(m+1) for _ in range(n+1)]\n",
    "dp"
   ]
  },
  {
   "cell_type": "code",
   "execution_count": 53,
   "metadata": {},
   "outputs": [
    {
     "data": {
      "text/plain": [
       "[[1, 0, 0, 0], [1, 1, 0, 0], [1, 2, 2, 1], [1, 3, 5, 6]]"
      ]
     },
     "execution_count": 53,
     "metadata": {},
     "output_type": "execute_result"
    }
   ],
   "source": [
    "for i in range(n+1):\n",
    "    dp[i][0] = 1\n",
    "    \n",
    "for i in range(n):\n",
    "    for j in range(1, m+1):\n",
    "        if j - 1 - a[i] >= 0:\n",
    "            dp[i+1][j] = (dp[i+1][j-1] + dp[i][j] - dp[i][j-1-a[i]] + M) % M\n",
    "        else:\n",
    "            dp[i+1][j] = (dp[i+1][j-1] + dp[i][j]) % M\n",
    "\n",
    "dp"
   ]
  },
  {
   "cell_type": "code",
   "execution_count": 55,
   "metadata": {
    "scrolled": true
   },
   "outputs": [
    {
     "data": {
      "text/plain": [
       "6"
      ]
     },
     "execution_count": 55,
     "metadata": {},
     "output_type": "execute_result"
    }
   ],
   "source": [
    "dp[n][m]"
   ]
  },
  {
   "cell_type": "code",
   "execution_count": 56,
   "metadata": {},
   "outputs": [],
   "source": [
    "def CWR(n, m, a, M):\n",
    "    dp = [[0]*(m+1) for _ in range(n+1)]\n",
    "    \n",
    "    for i in range(n+1):\n",
    "        dp[i][0] = 1\n",
    "    \n",
    "    for i in range(n):\n",
    "        for j in range(1, m+1):\n",
    "            if j - 1 - a[i] >= 0:\n",
    "                dp[i+1][j] = (dp[i+1][j-1] + dp[i][j] - dp[i][j-1-a[i]] + M) % M\n",
    "            else:\n",
    "                dp[i+1][j] = (dp[i+1][j-1] + dp[i][j]) % M\n",
    "    \n",
    "    return dp[n][m]"
   ]
  },
  {
   "cell_type": "markdown",
   "metadata": {},
   "source": [
    "---\n",
    "### example  "
   ]
  },
  {
   "cell_type": "code",
   "execution_count": 57,
   "metadata": {},
   "outputs": [
    {
     "name": "stdout",
     "output_type": "stream",
     "text": [
      "[31, 39, 14, 93, 51, 62, 20, 12, 9, 3, 52, 71, 38, 98, 8, 29, 67, 69, 47, 36]\n"
     ]
    }
   ],
   "source": [
    "from random import randint\n",
    "from random import seed\n",
    "n = 20\n",
    "m = 3\n",
    "seed(4)\n",
    "a = [randint(1, 100) for _ in range(n)]\n",
    "M = 1000\n",
    "print(a)"
   ]
  },
  {
   "cell_type": "code",
   "execution_count": 58,
   "metadata": {},
   "outputs": [
    {
     "data": {
      "text/plain": [
       "540"
      ]
     },
     "execution_count": 58,
     "metadata": {},
     "output_type": "execute_result"
    }
   ],
   "source": [
    "CWR(n=n, m=m, a=a, M=M)"
   ]
  }
 ],
 "metadata": {
  "kernelspec": {
   "display_name": "Python 3",
   "language": "python",
   "name": "python3"
  },
  "language_info": {
   "codemirror_mode": {
    "name": "ipython",
    "version": 3
   },
   "file_extension": ".py",
   "mimetype": "text/x-python",
   "name": "python",
   "nbconvert_exporter": "python",
   "pygments_lexer": "ipython3",
   "version": "3.7.0"
  }
 },
 "nbformat": 4,
 "nbformat_minor": 2
}
