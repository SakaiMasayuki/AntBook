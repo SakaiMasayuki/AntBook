{
 "cells": [
  {
   "cell_type": "markdown",
   "metadata": {},
   "source": [
    "# Division Number：分割数  \n",
    "$n$個の互いに区別できない品物を，$m$個以下に分割する方法の総数を求めよ．  \n",
    "さらに$M$で割った余りを答えよ．  \n",
    "\n",
    "---\n",
    "## Restriction  \n",
    "- $1 \\leq m \\leq n \\leq 1000$\n",
    "- $2 \\leq M \\leq 1000$\n",
    "\n",
    "---\n",
    "## input  \n",
    "- $n = 4$\n",
    "- $m = 3$\n",
    "- $M = 10000$\n",
    "\n",
    "---\n",
    "## output  \n",
    "$4(1 + 1 + 2 = 1 + 3 = 2 + 2 = 4)$"
   ]
  },
  {
   "cell_type": "markdown",
   "metadata": {},
   "source": [
    "---\n",
    "## 方針\n",
    "\n",
    "このような分割を$n$の$m$分割という．$m=n$の時，特に$n$の分割数という．ここで，dp配列の各要素を次のように定義する．\n",
    "\n",
    "- **$dp[i][j] := j$の$i$分割の総数**  \n",
    "\n",
    "この時，$j$を$i$個に分割するには，まず$k$個を取り出し，残りの$j-k$を$i-1$個に分割すれば良い．しかし，\n",
    "\n",
    "$$\n",
    "    dp[i][j] = \\sum_{k=0}^{j} dp[i-1][j-k]\n",
    "$$\n",
    "\n",
    "という漸化式を立てた場合\n",
    "\n",
    "- $1+1+2$\n",
    "- $1+2+1$ \n",
    "\n",
    "という二つの分割を別のものとして数えてしまう．重複を排除するために次のような漸化式を考える．\n",
    "\n",
    "- **$dp[i][j] := dp[i][j-1] + dp[i-1][j] $**  \n",
    "\n",
    "上記であれば，重複なく数え上げできる．この時計算量は$O(nm)$となる．このようなケース（場合の数の問題）では，重複を以下になくすかがポイントとなる．"
   ]
  },
  {
   "cell_type": "code",
   "execution_count": 33,
   "metadata": {},
   "outputs": [],
   "source": [
    "# 入力\n",
    "n = 4\n",
    "m = 3\n",
    "M = 10000"
   ]
  },
  {
   "cell_type": "code",
   "execution_count": 34,
   "metadata": {},
   "outputs": [
    {
     "name": "stdout",
     "output_type": "stream",
     "text": [
      "[[1, 0, 0, 0, 0], [0, 0, 0, 0, 0], [0, 0, 0, 0, 0], [0, 0, 0, 0, 0]]\n",
      "size : ( 4 , 5 )\n"
     ]
    }
   ],
   "source": [
    "dp = [[0]*(n+1) for _ in range(m+1)]\n",
    "dp[0][0] = 1\n",
    "print(dp)\n",
    "print('size : (', len(dp), ',', len(dp[0]), ')')"
   ]
  },
  {
   "cell_type": "code",
   "execution_count": 35,
   "metadata": {},
   "outputs": [
    {
     "name": "stdout",
     "output_type": "stream",
     "text": [
      "[[1, 0, 0, 0, 0], [1, 1, 1, 1, 1], [1, 1, 2, 2, 3], [1, 1, 2, 3, 4]]\n"
     ]
    }
   ],
   "source": [
    "for i in range(1, m+1):\n",
    "    for j in range(n+1):\n",
    "        if  j - i >= 0:\n",
    "            dp[i][j] = (dp[i - 1][j] + dp[i][j-i])  % M\n",
    "        else:\n",
    "            dp[i][j] = dp[i - 1][j]\n",
    "print(dp)"
   ]
  },
  {
   "cell_type": "code",
   "execution_count": 36,
   "metadata": {},
   "outputs": [
    {
     "data": {
      "text/plain": [
       "4"
      ]
     },
     "execution_count": 36,
     "metadata": {},
     "output_type": "execute_result"
    }
   ],
   "source": [
    "dp[m][n]"
   ]
  },
  {
   "cell_type": "code",
   "execution_count": null,
   "metadata": {},
   "outputs": [],
   "source": []
  }
 ],
 "metadata": {
  "kernelspec": {
   "display_name": "Python 3",
   "language": "python",
   "name": "python3"
  },
  "language_info": {
   "codemirror_mode": {
    "name": "ipython",
    "version": 3
   },
   "file_extension": ".py",
   "mimetype": "text/x-python",
   "name": "python",
   "nbconvert_exporter": "python",
   "pygments_lexer": "ipython3",
   "version": "3.7.0"
  }
 },
 "nbformat": 4,
 "nbformat_minor": 2
}
